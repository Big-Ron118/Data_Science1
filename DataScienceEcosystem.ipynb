{
 "cells": [
  {
   "cell_type": "markdown",
   "id": "a4d8eef6-8e2e-4c1d-af2a-2f0b48f7420c",
   "metadata": {},
   "source": [
    "# Data Science Tools and Ecosystem"
   ]
  },
  {
   "cell_type": "markdown",
   "id": "7ffaa617-2e29-498b-89ee-d49dea3c368e",
   "metadata": {
    "tags": []
   },
   "source": [
    "**In this notebook, Data Science Tools and Ecosystem are summarised.**"
   ]
  },
  {
   "cell_type": "markdown",
   "id": "89267ede-32d0-4e58-b743-30620b791368",
   "metadata": {},
   "source": [
    "**Objectives:**\n",
    "- list popular Data Science languages\n",
    "- list commonly-used Data Science libraries\n",
    "- give an example of arithmetic using Python"
   ]
  },
  {
   "cell_type": "markdown",
   "id": "c0d1d5bf-da5f-406a-872c-b627352efe5d",
   "metadata": {},
   "source": [
    "Some of the popular languages that Data Scientists use are:\n",
    "- SQL\n",
    "- Python\n",
    "- R"
   ]
  },
  {
   "cell_type": "markdown",
   "id": "4699a828-6b0a-4686-88e6-86bf8ae7a294",
   "metadata": {},
   "source": [
    "Some of the commonly-used Data Science libraries include:\n",
    "- Pandas\n",
    "- NumPy\n",
    "- Matplotlib"
   ]
  },
  {
   "cell_type": "markdown",
   "id": "4f1d390f-f981-400a-9017-7ed1f9ab79c1",
   "metadata": {
    "tags": []
   },
   "source": [
    "|Data Science Tools|\n",
    "|----|\n",
    "| Jupiter Lab |\n",
    "| VS Code |\n",
    "| GoogleColab |"
   ]
  },
  {
   "cell_type": "markdown",
   "id": "ecc48eab-0c39-49f7-915a-ea71c26a3dfd",
   "metadata": {},
   "source": [
    "### Below are a few examples of evaluating arithmetic expressions in Python:"
   ]
  },
  {
   "cell_type": "code",
   "execution_count": 3,
   "id": "91ed113d-887a-4616-aabc-8d3886db8419",
   "metadata": {
    "tags": []
   },
   "outputs": [
    {
     "data": {
      "text/plain": [
       "17"
      ]
     },
     "execution_count": 3,
     "metadata": {},
     "output_type": "execute_result"
    }
   ],
   "source": [
    "#This a simple arithmetic expression to mutiply then add integers\n",
    "(3*4)+5\n"
   ]
  },
  {
   "cell_type": "code",
   "execution_count": 6,
   "id": "75606940-b531-44c0-a7ed-a584fdc7acb3",
   "metadata": {
    "tags": []
   },
   "outputs": [
    {
     "name": "stdout",
     "output_type": "stream",
     "text": [
      "200 minutes is equal to 3.3333333333333335 hours\n"
     ]
    }
   ],
   "source": [
    "#This will convert 200 minutes to hours\n",
    "print(\"200 minutes is equal to\",200/60,\"hours\")"
   ]
  },
  {
   "cell_type": "markdown",
   "id": "84497cde-ebf7-40d9-86fa-cddc566f8cb2",
   "metadata": {},
   "source": [
    "## Author\n",
    "Peter"
   ]
  },
  {
   "cell_type": "code",
   "execution_count": null,
   "id": "cf9ffb8e-3f62-438a-bd59-d15b18201bf8",
   "metadata": {},
   "outputs": [],
   "source": []
  }
 ],
 "metadata": {
  "kernelspec": {
   "display_name": "Python",
   "language": "python",
   "name": "conda-env-python-py"
  },
  "language_info": {
   "codemirror_mode": {
    "name": "ipython",
    "version": 3
   },
   "file_extension": ".py",
   "mimetype": "text/x-python",
   "name": "python",
   "nbconvert_exporter": "python",
   "pygments_lexer": "ipython3",
   "version": "3.7.12"
  }
 },
 "nbformat": 4,
 "nbformat_minor": 5
}
